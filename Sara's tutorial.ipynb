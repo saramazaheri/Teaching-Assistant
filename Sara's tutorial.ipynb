{
 "cells": [
  {
   "cell_type": "markdown",
   "id": "fcc8d769",
   "metadata": {},
   "source": [
    "# Python String\n",
    "In the section on Basic Data Types in Python, you learned how to define **strings**: objects that contain sequences of character data. Processing character data is integral to programming. It is a rare application that doesn’t need to manipulate strings at least to some extent."
   ]
  },
  {
   "cell_type": "code",
   "execution_count": null,
   "id": "bb88f035",
   "metadata": {},
   "outputs": [],
   "source": [
    "2*2"
   ]
  },
  {
   "cell_type": "code",
   "execution_count": null,
   "id": "44cbe871",
   "metadata": {},
   "outputs": [],
   "source": [
    "x = \"sara\"\n",
    "y = \"mazaheri\"\n",
    "x + y\n",
    "10 * x"
   ]
  },
  {
   "cell_type": "code",
   "execution_count": null,
   "id": "aef82771",
   "metadata": {},
   "outputs": [],
   "source": [
    "s = 'foo'\n",
    "t = 'bar'\n",
    "u = 'baz'\n",
    "s + t\n",
    "s + t + u"
   ]
  },
  {
   "cell_type": "code",
   "execution_count": null,
   "id": "7a18f5fe",
   "metadata": {},
   "outputs": [],
   "source": [
    "print('Go team' + '!!!')"
   ]
  },
  {
   "cell_type": "code",
   "execution_count": null,
   "id": "7e4134f3",
   "metadata": {},
   "outputs": [],
   "source": [
    "s = 'foo.'\n",
    "4 * s"
   ]
  },
  {
   "cell_type": "code",
   "execution_count": null,
   "id": "d52c6a18",
   "metadata": {},
   "outputs": [],
   "source": [
    "'foo' * -8"
   ]
  },
  {
   "cell_type": "markdown",
   "id": "e6e60551",
   "metadata": {},
   "source": [
    "## The in Operator\n",
    "\n",
    "Python also provides a membership operator that can be used with strings. The in operator returns `True` if the first operand is contained within the second, and `False` otherwise:"
   ]
  },
  {
   "cell_type": "code",
   "execution_count": null,
   "id": "94e1ccc5",
   "metadata": {},
   "outputs": [],
   "source": [
    "s = 'foo'\n",
    "s in 'That\\'s food for thought.'"
   ]
  },
  {
   "cell_type": "code",
   "execution_count": null,
   "id": "3947cdce",
   "metadata": {},
   "outputs": [],
   "source": [
    "s = 'foo'\n",
    "s in 'That\\'s good for now.'"
   ]
  },
  {
   "cell_type": "markdown",
   "id": "dd66701a",
   "metadata": {},
   "source": [
    "## String Indexing\n",
    "\n",
    "Often in programming languages, individual items in an ordered set of data can be accessed directly using a numeric index or key value. This process is referred to as indexing."
   ]
  },
  {
   "cell_type": "code",
   "execution_count": null,
   "id": "e76e5a33",
   "metadata": {},
   "outputs": [],
   "source": [
    "s = 'foobar'\n",
    "s[0]\n",
    "s[len(s)-1]"
   ]
  },
  {
   "cell_type": "markdown",
   "id": "5ac99f4b",
   "metadata": {},
   "source": [
    "## Interpolating Variables Into a String\n",
    "\n",
    "In Python version 3.6, a new string formatting mechanism was introduced. This feature is formally named the Formatted String Literal, but is more usually referred to by its nickname **f-string**."
   ]
  },
  {
   "cell_type": "code",
   "execution_count": null,
   "id": "4616d7ec",
   "metadata": {},
   "outputs": [],
   "source": [
    "n = 20\n",
    "m = 25\n",
    "prod = n * m\n",
    "print('The product of', n, 'and', m, 'is', prod)"
   ]
  },
  {
   "cell_type": "markdown",
   "id": "9118a57a",
   "metadata": {},
   "source": [
    "# Python Lists\n",
    "In short, a list is a collection of arbitrary objects, somewhat akin to an array in many other programming languages but more flexible. Lists are defined in Python by enclosing a comma-separated sequence of objects in square brackets ([]), as shown below:"
   ]
  },
  {
   "cell_type": "code",
   "execution_count": null,
   "id": "ac34d824",
   "metadata": {},
   "outputs": [],
   "source": [
    "x = [1, 'sara', 1.0]"
   ]
  },
  {
   "cell_type": "markdown",
   "id": "b16ba269",
   "metadata": {},
   "source": [
    "## 1. Lists are ordered\n",
    "A list is not merely a collection of objects. It is an ordered collection of objects. The order in which you specify the elements when you define a list is an innate characteristic of that list and is maintained for that list’s lifetime. (You will see a Python data type that is not ordered in the next tutorial on dictionaries.)"
   ]
  },
  {
   "cell_type": "code",
   "execution_count": null,
   "id": "512698cf",
   "metadata": {},
   "outputs": [],
   "source": [
    "x = [1, 2, 3]\n",
    "y = [3, 2, 1]\n",
    "x == y"
   ]
  },
  {
   "cell_type": "code",
   "execution_count": null,
   "id": "9e91f65e",
   "metadata": {},
   "outputs": [],
   "source": [
    "x = [1, 2, 3]\n",
    "y = [1, 2, 3]\n",
    "x == y\n",
    "x is y"
   ]
  },
  {
   "cell_type": "markdown",
   "id": "a4c7c078",
   "metadata": {},
   "source": [
    "## 2. Lists Can Contain Arbitrary Objects\n",
    "\n",
    "A list can contain any assortment of objects. The elements of a list can all be the same type:"
   ]
  },
  {
   "cell_type": "code",
   "execution_count": null,
   "id": "ca75f997",
   "metadata": {},
   "outputs": [],
   "source": [
    "a = [21.42, 'foobar', 3, 4, 'bark', False, 3.14159]"
   ]
  },
  {
   "cell_type": "code",
   "execution_count": null,
   "id": "620419a3",
   "metadata": {},
   "outputs": [],
   "source": [
    "import sys\n",
    "sys.getsizeof(...)"
   ]
  },
  {
   "cell_type": "markdown",
   "id": "912f5cd2",
   "metadata": {},
   "source": [
    "## 3. List Elements Can Be Accessed by Index\n",
    "\n",
    "Individual elements in a list can be accessed using an index in square brackets. This is exactly analogous to accessing individual characters in a string. List indexing is zero-based as it is with strings."
   ]
  },
  {
   "cell_type": "code",
   "execution_count": null,
   "id": "1068f58d",
   "metadata": {},
   "outputs": [],
   "source": [
    "a = ['foo', 'bar', 'baz', 'qux', 'quux', 'corge']\n",
    "a[0]\n",
    "a[-1]"
   ]
  },
  {
   "cell_type": "markdown",
   "id": "d4ba94c4",
   "metadata": {},
   "source": [
    "## 4. Lists Can Be Nested\n",
    "\n",
    "You have seen that an element in a list can be any sort of object. That includes another list. A list can contain sublists, which in turn can contain sublists themselves, and so on to arbitrary depth."
   ]
  },
  {
   "cell_type": "code",
   "execution_count": null,
   "id": "e71810b5",
   "metadata": {},
   "outputs": [],
   "source": [
    "x = ['a', ['bb', ['ccc', 'ddd'], 'ee', 'ff'], 'g', ['hh', 'ii'], 'j']\n",
    "x[1][0]"
   ]
  },
  {
   "cell_type": "markdown",
   "id": "00dd5d67",
   "metadata": {},
   "source": [
    "## 5. Lists Are Mutable\n",
    "Most of the data types you have encountered so far have been atomic types. Integer or float objects, for example, are primitive units that can’t be further broken down. These types are immutable, meaning that they can’t be changed once they have been assigned. It doesn’t make much sense to think of changing the value of an integer. If you want a different integer, you just assign a different one."
   ]
  },
  {
   "cell_type": "code",
   "execution_count": null,
   "id": "b0e78a62",
   "metadata": {},
   "outputs": [],
   "source": [
    "a = ['foo', 'bar', 'baz', 'qux', 'quux', 'corge']\n",
    "a[2] = 10"
   ]
  },
  {
   "cell_type": "markdown",
   "id": "489b5baf",
   "metadata": {},
   "source": [
    "## 6. Lists Are Dynamic\n",
    "This tutorial began with a list of six defining characteristics of Python lists. The last one is that lists are dynamic. You have seen many examples of this in the sections above. When items are added to a list, it grows as needed:"
   ]
  },
  {
   "cell_type": "code",
   "execution_count": null,
   "id": "27ec0e1d",
   "metadata": {},
   "outputs": [],
   "source": [
    "a = ['foo', 'bar', 'baz', 'qux', 'quux', 'corge']\n",
    "a +=[345]\n",
    "del a[0]"
   ]
  },
  {
   "cell_type": "markdown",
   "id": "4c6a212e",
   "metadata": {},
   "source": [
    "# Python Tuples\n",
    "\n",
    "Python provides another type that is an ordered collection of objects, called a tuple.\n",
    "Why use a tuple instead of a list?\n",
    "\n",
    "- Program execution is faster when manipulating a tuple than it is for the equivalent list. (This is probably not going to be noticeable when the list or tuple is small.)\n",
    "\n",
    "- Sometimes you don’t want data to be modified. If the values in the collection are meant to remain constant for the life of the program, using a tuple instead of a list guards against accidental modification.\n",
    "\n",
    "- There is another Python data type that you will encounter shortly called a dictionary, which requires as one of its components a value that is of an immutable type. A tuple can be used for this purpose, whereas a list can’t be."
   ]
  },
  {
   "cell_type": "code",
   "execution_count": null,
   "id": "40daa32a",
   "metadata": {},
   "outputs": [],
   "source": [
    "sys.getsizeof(list())"
   ]
  },
  {
   "cell_type": "markdown",
   "id": "b8228d08",
   "metadata": {},
   "source": [
    "## Tuple Assignment, Packing, and Unpacking\n",
    "\n",
    "As you have already seen above, a literal tuple containing several items can be assigned to a single object:"
   ]
  },
  {
   "cell_type": "code",
   "execution_count": null,
   "id": "6fc78d6a",
   "metadata": {},
   "outputs": [],
   "source": [
    "t = ('foo', 'bar', 'baz', 'qux')\n",
    "t"
   ]
  },
  {
   "cell_type": "code",
   "execution_count": null,
   "id": "4f619d6d",
   "metadata": {},
   "outputs": [],
   "source": [
    "(s1, s2, s3, s4) = t\n",
    "s1"
   ]
  },
  {
   "cell_type": "markdown",
   "id": "94202f4e",
   "metadata": {},
   "source": [
    "# Python Dictionary\n",
    "Python provides another composite data type called a dictionary, which is similar to a list in that it is a collection of objects."
   ]
  },
  {
   "cell_type": "code",
   "execution_count": null,
   "id": "3dfb7146",
   "metadata": {},
   "outputs": [],
   "source": [
    "MLB_team = {\n",
    "    'Colorado' : 'Rockies',\n",
    "    'Boston'   : 'Red Sox',\n",
    "    'Minnesota': 'Twins',\n",
    "    'Milwaukee': 'Brewers',\n",
    "    'Seattle'  : 'Mariners'\n",
    "}"
   ]
  },
  {
   "cell_type": "code",
   "execution_count": null,
   "id": "cd4278b2",
   "metadata": {},
   "outputs": [],
   "source": [
    "MLB_team = dict([\n",
    "    ('Colorado', 'Rockies'),\n",
    "    ('Boston', 'Red Sox'),\n",
    "    ('Minnesota', 'Twins'),\n",
    "    ('Milwaukee', 'Brewers'),\n",
    "    ('Seattle', 'Mariners')\n",
    "])\n",
    "MLB_team['Minnesota']"
   ]
  },
  {
   "cell_type": "markdown",
   "id": "1f43a903",
   "metadata": {},
   "source": [
    "[] Square Bracket => List\n",
    "() Parentesis => Tuple\n",
    "{} Curley braces => Dictionary"
   ]
  },
  {
   "cell_type": "code",
   "execution_count": null,
   "id": "5c8f9f79",
   "metadata": {},
   "outputs": [],
   "source": [
    "MLB_team['Kansas City'] = 'Royals'\n",
    "MLB_team"
   ]
  },
  {
   "cell_type": "markdown",
   "id": "4d9b1a13",
   "metadata": {},
   "source": [
    "## Dictionary vs List"
   ]
  },
  {
   "cell_type": "code",
   "execution_count": null,
   "id": "5b61ee12",
   "metadata": {},
   "outputs": [],
   "source": [
    "person = {}\n",
    "type(person)"
   ]
  },
  {
   "cell_type": "code",
   "execution_count": null,
   "id": "a62d514f",
   "metadata": {},
   "outputs": [],
   "source": [
    "person = {}\n",
    "person['fname'] = 'Joe'\n",
    "person['lname'] = 'Fonebone'\n",
    "person['age'] = 51\n",
    "person['spouse'] = 'Edna'\n",
    "person['children'] = ['Ralph', 'Betty', 'Joey']\n",
    "person['pets'] = {'dog': 'Fido', 'cat': 'Sox'}\n",
    "person"
   ]
  },
  {
   "cell_type": "markdown",
   "id": "c749677d",
   "metadata": {},
   "source": [
    "## Restrictions on Dictionary Keys\n",
    "\n",
    "Almost any type of value can be used as a dictionary key in Python. You just saw this example, where integer, float, and Boolean objects are used as keys:"
   ]
  },
  {
   "cell_type": "code",
   "execution_count": null,
   "id": "f0edb9ad",
   "metadata": {},
   "outputs": [],
   "source": [
    "foo = {42: 'aaa', 2.78: 'bbb', True: 'ccc'}\n",
    "foo"
   ]
  },
  {
   "cell_type": "code",
   "execution_count": null,
   "id": "1d4ba1e8",
   "metadata": {},
   "outputs": [],
   "source": [
    "d = {int: 1, float: 2, bool: 3}\n",
    "d"
   ]
  },
  {
   "cell_type": "code",
   "execution_count": null,
   "id": "9d4ff9bf",
   "metadata": {},
   "outputs": [],
   "source": [
    "x = {[1, 2, 3]: \"one\"}\n",
    "x"
   ]
  },
  {
   "cell_type": "markdown",
   "id": "ec6cd771",
   "metadata": {},
   "source": [
    "# Set\n",
    "\n",
    "In mathematics, a rigorous definition of a set can be abstract and difficult to grasp. Practically though, a set can be thought of simply as a well-defined collection of distinct objects, typically called **elements** or **members**."
   ]
  },
  {
   "cell_type": "code",
   "execution_count": null,
   "id": "31674be8",
   "metadata": {},
   "outputs": [],
   "source": [
    "x = {1, 2, 3, 4, 4, 4, 4}\n",
    "x"
   ]
  },
  {
   "cell_type": "code",
   "execution_count": null,
   "id": "d2119919",
   "metadata": {},
   "outputs": [],
   "source": [
    "myset = {1, 2, 3, 'ali'}\n",
    "myset[0]"
   ]
  },
  {
   "cell_type": "code",
   "execution_count": null,
   "id": "a41595ea",
   "metadata": {},
   "outputs": [],
   "source": [
    "z = {\"sara\", \"ali\"}\n",
    "z.add(\"reza\")\n",
    "z"
   ]
  },
  {
   "cell_type": "code",
   "execution_count": null,
   "id": "65551f70",
   "metadata": {},
   "outputs": [],
   "source": [
    "x = set([1, 2, 3])\n",
    "x"
   ]
  },
  {
   "cell_type": "code",
   "execution_count": null,
   "id": "2cbb893d",
   "metadata": {},
   "outputs": [],
   "source": [
    "y = set({1:'one', 2:'two'})\n",
    "y"
   ]
  },
  {
   "cell_type": "code",
   "execution_count": null,
   "id": "87a67b65",
   "metadata": {},
   "outputs": [],
   "source": [
    "y = set({1: 'one', 2: 'two'}.values())\n",
    "y"
   ]
  },
  {
   "cell_type": "code",
   "execution_count": null,
   "id": "e658f956",
   "metadata": {},
   "outputs": [],
   "source": [
    "x = set()\n",
    "type(x)"
   ]
  },
  {
   "cell_type": "code",
   "execution_count": 15,
   "id": "9c1a7153",
   "metadata": {},
   "outputs": [
    {
     "name": "stdout",
     "output_type": "stream",
     "text": [
      "30.7 ns ± 1.95 ns per loop (mean ± std. dev. of 7 runs, 10000000 loops each)\n",
      "34.4 ns ± 1.62 ns per loop (mean ± std. dev. of 7 runs, 10000000 loops each)\n"
     ]
    }
   ],
   "source": [
    "mylist = list(range(1000))\n",
    "myset = set(range(1000))\n",
    "%timeit 0 in mylist\n",
    "%timeit 0 in myset"
   ]
  },
  {
   "cell_type": "code",
   "execution_count": 16,
   "id": "8f3a4a0d",
   "metadata": {},
   "outputs": [
    {
     "name": "stdout",
     "output_type": "stream",
     "text": [
      "9.19 µs ± 290 ns per loop (mean ± std. dev. of 7 runs, 100000 loops each)\n",
      "47 ns ± 2.28 ns per loop (mean ± std. dev. of 7 runs, 10000000 loops each)\n"
     ]
    }
   ],
   "source": [
    "mylist = list(range(1000))\n",
    "myset = set(range(1000))\n",
    "%timeit 958 in mylist\n",
    "%timeit 958 in myset"
   ]
  },
  {
   "cell_type": "code",
   "execution_count": null,
   "id": "5a800fa1",
   "metadata": {},
   "outputs": [],
   "source": [
    "x = {'sara', 'Sara', 'SARA'}\n",
    "x"
   ]
  },
  {
   "cell_type": "markdown",
   "id": "21aedb10",
   "metadata": {},
   "source": [
    "Sara Mazaheri\n",
    "1400-2"
   ]
  }
 ],
 "metadata": {
  "kernelspec": {
   "display_name": "Python 3.7.4 64-bit",
   "language": "python",
   "name": "python37464bit4112cb608a2048ed99ce901962fc3abe"
  },
  "language_info": {
   "codemirror_mode": {
    "name": "ipython",
    "version": 3
   },
   "file_extension": ".py",
   "mimetype": "text/x-python",
   "name": "python",
   "nbconvert_exporter": "python",
   "pygments_lexer": "ipython3",
   "version": "3.7.4"
  }
 },
 "nbformat": 4,
 "nbformat_minor": 5
}
